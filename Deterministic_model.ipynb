{
  "cells": [
    {
      "cell_type": "markdown",
      "metadata": {
        "id": "view-in-github",
        "colab_type": "text"
      },
      "source": [
        "<a href=\"https://colab.research.google.com/github/danriv16/danriv16/blob/main/Deterministic_model.ipynb\" target=\"_parent\"><img src=\"https://colab.research.google.com/assets/colab-badge.svg\" alt=\"Open In Colab\"/></a>"
      ]
    },
    {
      "cell_type": "code",
      "execution_count": 61,
      "metadata": {
        "colab": {
          "base_uri": "https://localhost:8080/"
        },
        "id": "JWa1enqKpQym",
        "outputId": "05738941-70a7-4391-a2d4-07449d39e425"
      },
      "outputs": [
        {
          "output_type": "stream",
          "name": "stdout",
          "text": [
            "Requirement already satisfied: gurobipy in /usr/local/lib/python3.12/dist-packages (12.0.3)\n"
          ]
        }
      ],
      "source": [
        "!pip install gurobipy"
      ]
    },
    {
      "cell_type": "code",
      "source": [
        "# save as humanitarian_gurobi.py and run: python humanitarian_gurobi.py\n",
        "from gurobipy import Model, GRB, LinExpr, QuadExpr, quicksum\n",
        "import itertools"
      ],
      "metadata": {
        "id": "-f8x_yUTmOpj"
      },
      "execution_count": 62,
      "outputs": []
    },
    {
      "cell_type": "code",
      "source": [
        "# ---------- Sets ----------\n",
        "T = [1,2,3] #Time\n",
        "DC = [1,2,3] #Distribution_Center\n",
        "DP = [1,2,3,4,5] #Demand_Point: StaLucia, Suan, Campo de la Cruz, Candelaria, Manati\n",
        "C = [1,2] #Commodity\n"
      ],
      "metadata": {
        "id": "Fl9Z0-mHmQbx"
      },
      "execution_count": 63,
      "outputs": []
    },
    {
      "cell_type": "code",
      "source": [
        "#--------- Parameters -----\n",
        "# Initial Demand\n",
        "Initial_Demand_C_DP = {\n",
        "  (1,1): 215, (1,2):192, (1,3):331, (1,4):169, (1,5):318,\n",
        "  (2,1): 235, (2,2):210, (2,3):364, (2,4):186, (2,5):349,\n",
        "}\n",
        "\n",
        "Inventory_Cost_C = {1: 3.33, 2: 2.50}\n",
        "\n",
        "Transportation_Cost_DC_DP = {\n",
        "  (1,1):64, (1,2):64, (1,3):61, (1,4):67, (1,5):61,\n",
        "  (2,1):30, (2,2):30, (2,3):30, (2,4):36, (2,5):30,\n",
        "  (3,1):33, (3,2):33, (3,3):30, (3,4):36, (3,5):33,\n",
        "}\n",
        "\n",
        "Initial_Inventory_C_DC = {\n",
        "  (1,1):460, (1,2):385, (1,3):385,\n",
        "  (2,1):505, (2,2):420, (2,3):420,\n",
        "}\n",
        "\n",
        "Fixed_Cost_Open_DC = {1:7580, 2:3790, 3:3790}\n",
        "\n",
        "Cost_Commodity = {1:333, 2:250}\n",
        "\n",
        "# small constant\n",
        "Epsilon = 0.001"
      ],
      "metadata": {
        "id": "MKhi62nQB18w"
      },
      "execution_count": 64,
      "outputs": []
    },
    {
      "cell_type": "code",
      "source": [
        "def sum_demand_by_commodity(commodity_index, parameter):\n",
        "  \"\"\"Sums the initial demand for a given commodity across all demand points.\"\"\"\n",
        "  return sum(v for (c, dp), v in parameter.items() if c == commodity_index)\n",
        "\n",
        "# Example usage:\n",
        "print(f\"Total demand for commodity 1: {sum_demand_by_commodity(1,Initial_Demand_C_DP)}\")\n",
        "print(f\"Total capacity for commodity 1: {sum_demand_by_commodity(1,Initial_Inventory_C_DC)}\")\n",
        "\n",
        "\n",
        "# Example usage:\n",
        "print(f\"Total demand for commodity 2: {sum_demand_by_commodity(2,Initial_Demand_C_DP)}\")\n",
        "print(f\"Total capacity for commodity 2: {sum_demand_by_commodity(2,Initial_Inventory_C_DC)}\")\n"
      ],
      "metadata": {
        "colab": {
          "base_uri": "https://localhost:8080/"
        },
        "id": "Da2QZZF3DgH3",
        "outputId": "22d26d98-a813-45c4-f286-5fce074236bd"
      },
      "execution_count": 65,
      "outputs": [
        {
          "output_type": "stream",
          "name": "stdout",
          "text": [
            "Total demand for commodity 1: 1225\n",
            "Total capacity for commodity 1: 1230\n",
            "Total demand for commodity 2: 1344\n",
            "Total capacity for commodity 2: 1345\n"
          ]
        }
      ]
    },
    {
      "cell_type": "code",
      "source": [
        "import math\n",
        "\n",
        "Deprivation_cost = {\n",
        "  (1,1):math.exp(1.503e1 + 0.1172 * 1*6) - math.exp(1.5), (1,2):math.exp(1.503e1 + 0.1172 * 2*6) - math.exp(1.5), (1,3):math.exp(1.503e1 + 0.1172 * 3*6) - math.exp(1.5),\n",
        "  (2,1):math.exp(0.065 * 1*6) - 1, (2,2):math.exp(0.065 * 2*6) - 1, (2,3):math.exp(0.065 * 3*6) - 1,\n",
        "}\n"
      ],
      "metadata": {
        "id": "EhY53xnmQrIs"
      },
      "execution_count": 66,
      "outputs": []
    },
    {
      "cell_type": "code",
      "source": [
        "\n",
        "#----------- Variables-------\n",
        "m = Model('NovaBeverages')\n",
        "\n",
        "X = m.addVars(C, DC, DP, T,name='Transportation',lb=0,vtype=GRB.INTEGER)\n",
        "Y = m.addVars(DC,vtype=GRB.BINARY,name='OpenDC')\n",
        "RD = m.addVars(C, DP, T,name='Remaining_Demand',lb=0,vtype=GRB.INTEGER)\n",
        "I = m.addVars(C, DC, T,name='Inventory',lb=0,vtype=GRB.INTEGER)\n"
      ],
      "metadata": {
        "id": "GG2MVTZyFrYj"
      },
      "execution_count": 67,
      "outputs": []
    },
    {
      "cell_type": "code",
      "source": [
        "# Total amount of commodities sent to DPs lower or equal to initial inventory\n",
        "for c in C:\n",
        "    for i in DC:\n",
        "        m.addConstr(quicksum(X[c,i,j,t] for j in DP for t in T) <= Initial_Inventory_C_DC[c,i]*Y[i])\n"
      ],
      "metadata": {
        "id": "pB9aCZfaOQ7T"
      },
      "execution_count": 68,
      "outputs": []
    },
    {
      "cell_type": "code",
      "source": [
        "# Total amount of commodities sent to DPs lower or equal to initial inventory\n",
        "for c in C:\n",
        "    for j in DP:\n",
        "        m.addConstr(quicksum(X[c,i,j,t] for i in DC for t in T) >= Initial_Demand_C_DP[c,j])"
      ],
      "metadata": {
        "id": "4HINcWTbJ2TB"
      },
      "execution_count": 69,
      "outputs": []
    },
    {
      "cell_type": "code",
      "source": [
        "#Inventory of commondity c in DC i at time t\n",
        "for c in C:\n",
        "    for i in DC:\n",
        "        for t in T:\n",
        "            if t==1:\n",
        "              m.addConstr( I[c,i,t] == Initial_Inventory_C_DC[c,i]- quicksum(X[c,i,j,t] for j in DP) )\n",
        "            else:\n",
        "              m.addConstr( I[c,i,t] == I[c,i,t-1]- quicksum(X[c,i,j,t] for j in DP) )\n",
        "\n"
      ],
      "metadata": {
        "id": "QFyyBghW-mzK"
      },
      "execution_count": 70,
      "outputs": []
    },
    {
      "cell_type": "code",
      "source": [
        "#Demand of commondity c in DP i at time t\n",
        "for c in C:\n",
        "    for j in DP:\n",
        "        for t in T:\n",
        "            if t==1:\n",
        "              m.addConstr(  quicksum(X[c,i,j,t] for i in DC) >= Initial_Demand_C_DP[c,j] )\n",
        "            else:\n",
        "              m.addConstr( RD[c,j,t] >= RD[c,j,t-1]- quicksum(X[c,i,j,t] for i in DC) )"
      ],
      "metadata": {
        "id": "vJhYva7VJq9T"
      },
      "execution_count": 71,
      "outputs": []
    },
    {
      "cell_type": "code",
      "source": [
        "#Demand of commondity c in DP i at time t\n",
        "for c in C:\n",
        "    for j in DP:\n",
        "        for t in T:\n",
        "            if t==1:\n",
        "              m.addConstr( RD[c,j,t] >= Initial_Demand_C_DP[c,j]- quicksum(X[c,i,j,t] for i in DC) )\n",
        "            else:\n",
        "              m.addConstr( RD[c,j,t] >= RD[c,j,t-1]- quicksum(X[c,i,j,t] for i in DC) )"
      ],
      "metadata": {
        "id": "1g5axX2eAs-n"
      },
      "execution_count": 72,
      "outputs": []
    },
    {
      "cell_type": "code",
      "source": [
        "m.setObjective(\n",
        "    quicksum(Inventory_Cost_C[c]*I[c,i,t] for c in C for i in DC for t in T)\n",
        "  + quicksum(Transportation_Cost_DC_DP[i,j]*X[c,i,j,t] for c in C for i in DC for j in DP for t in T)\n",
        "  + quicksum(Fixed_Cost_Open_DC[i]*Y[i] for i in DC)\n",
        "  + quicksum(Cost_Commodity[c]*X[c,i,j,t] for c in C for i in DC for j in DP for t in T)\n",
        "  + quicksum(Deprivation_cost[c,t]*(RD[c,j,t]/Initial_Demand_C_DP[c,j]) for c in C for j in DP for t in T),\n",
        "  GRB.MINIMIZE\n",
        ")\n"
      ],
      "metadata": {
        "id": "6ITvhawUCB-n"
      },
      "execution_count": 73,
      "outputs": []
    },
    {
      "cell_type": "code",
      "execution_count": 74,
      "metadata": {
        "id": "cA6r9P54pZjs",
        "colab": {
          "base_uri": "https://localhost:8080/"
        },
        "outputId": "81fcff80-c908-4051-c230-0c022926e419"
      },
      "outputs": [
        {
          "output_type": "stream",
          "name": "stdout",
          "text": [
            "Gurobi Optimizer version 12.0.3 build v12.0.3rc0 (linux64 - \"Ubuntu 22.04.4 LTS\")\n",
            "\n",
            "CPU model: Intel(R) Xeon(R) CPU @ 2.20GHz, instruction set [SSE2|AVX|AVX2]\n",
            "Thread count: 1 physical cores, 2 logical processors, using up to 2 threads\n",
            "\n",
            "Optimize a model with 94 rows, 141 columns and 576 nonzeros\n",
            "Model fingerprint: 0x49933eed\n",
            "Variable types: 0 continuous, 141 integer (3 binary)\n",
            "Coefficient statistics:\n",
            "  Matrix range     [1e+00, 5e+02]\n",
            "  Objective range  [1e-03, 2e+05]\n",
            "  Bounds range     [1e+00, 1e+00]\n",
            "  RHS range        [2e+02, 5e+02]\n",
            "Found heuristic solution: objective 871675.00000\n",
            "Presolve removed 78 rows and 108 columns\n",
            "Presolve time: 0.00s\n",
            "Presolved: 16 rows, 33 columns, 66 nonzeros\n",
            "Found heuristic solution: objective 869724.95000\n",
            "Variable types: 0 continuous, 33 integer (3 binary)\n",
            "Found heuristic solution: objective 869421.45000\n",
            "\n",
            "Root relaxation: objective 8.681974e+05, 20 iterations, 0.00 seconds (0.00 work units)\n",
            "\n",
            "    Nodes    |    Current Node    |     Objective Bounds      |     Work\n",
            " Expl Unexpl |  Obj  Depth IntInf | Incumbent    BestBd   Gap | It/Node Time\n",
            "\n",
            "     0     0 868197.440    0    1 869421.450 868197.440  0.14%     -    0s\n",
            "H    0     0                    868212.45000 868197.440  0.00%     -    0s\n",
            "\n",
            "Explored 1 nodes (20 simplex iterations) in 0.04 seconds (0.00 work units)\n",
            "Thread count was 2 (of 2 available processors)\n",
            "\n",
            "Solution count 4: 868212 869421 869725 871675 \n",
            "\n",
            "Optimal solution found (tolerance 1.00e-04)\n",
            "Best objective 8.682124500000e+05, best bound 8.681974400990e+05, gap 0.0017%\n"
          ]
        }
      ],
      "source": [
        "m.optimize()\n"
      ]
    },
    {
      "cell_type": "code",
      "source": [
        "if m.status == GRB.OPTIMAL:\n",
        "    print(f'Optimal total cost: {m.objVal:.2f}')\n",
        "    print('DC opening:')\n",
        "    for i in DC:\n",
        "        print(i, int(Y[i].x+0.5))\n",
        "\n",
        "    print('Transportation:')\n",
        "    for t in T:\n",
        "        for i in DC:\n",
        "            for j in DP:\n",
        "              for c in C:\n",
        "                v = X[c,i,j,t].x\n",
        "                if v>1e-6: print(f'c{c}, i{i}, j{j}, t{t} {v:.0f}')\n",
        "\n",
        "    print('Unmet Demand:')\n",
        "    for t in T:\n",
        "        for j in DC:\n",
        "            for c in C:\n",
        "              w = RD[c,j,t].x\n",
        "              if w>1e-6:print(f'c{c}, j{j}, t{t} {RD[c,j,t].x:.0f}')\n",
        "\n",
        "    print('Inventory:')\n",
        "    for t in T:\n",
        "        for i in DC:\n",
        "            for c in C:\n",
        "              h = I[c,i,t].x\n",
        "              if h>1e-6:print(f'c{c}, j{j}, t{t} {I[c,i,t].x:.0f}')\n",
        "\n",
        "\n"
      ],
      "metadata": {
        "colab": {
          "base_uri": "https://localhost:8080/"
        },
        "id": "pzNgQItSEo5P",
        "outputId": "d14d0a5d-45c8-46fe-9811-449d6b726d07"
      },
      "execution_count": 77,
      "outputs": [
        {
          "output_type": "stream",
          "name": "stdout",
          "text": [
            "Optimal total cost: 868212.45\n",
            "DC opening:\n",
            "1 1\n",
            "2 1\n",
            "3 1\n",
            "Transportation:\n",
            "c1, i1, j1, t1 22\n",
            "c2, i1, j1, t1 25\n",
            "c2, i1, j3, t1 130\n",
            "c1, i1, j4, t1 115\n",
            "c1, i1, j5, t1 318\n",
            "c2, i1, j5, t1 349\n",
            "c1, i2, j1, t1 193\n",
            "c2, i2, j1, t1 210\n",
            "c1, i2, j2, t1 192\n",
            "c2, i2, j2, t1 210\n",
            "c1, i3, j3, t1 331\n",
            "c2, i3, j3, t1 234\n",
            "c1, i3, j4, t1 54\n",
            "c2, i3, j4, t1 186\n",
            "Unmet Demand:\n",
            "Inventory:\n",
            "c1, j3, t1 5\n",
            "c2, j3, t1 1\n",
            "c1, j3, t2 5\n",
            "c2, j3, t2 1\n",
            "c1, j3, t3 5\n",
            "c2, j3, t3 1\n"
          ]
        }
      ]
    }
  ],
  "metadata": {
    "colab": {
      "provenance": [],
      "authorship_tag": "ABX9TyMhPgPnwUmHv9mwIJUb2KBA",
      "include_colab_link": true
    },
    "kernelspec": {
      "display_name": "Python 3",
      "name": "python3"
    },
    "language_info": {
      "name": "python"
    }
  },
  "nbformat": 4,
  "nbformat_minor": 0
}